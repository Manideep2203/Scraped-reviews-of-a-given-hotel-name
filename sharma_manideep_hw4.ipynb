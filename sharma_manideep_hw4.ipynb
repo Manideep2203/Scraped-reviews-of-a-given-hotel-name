{
 "cells": [
  {
   "cell_type": "markdown",
   "id": "8077189b",
   "metadata": {},
   "source": [
    "## Question : Program should output two CSV files with three columns. In the first column is the hotel name, in the second column is the reviewers' name, and in the third column is the review text. The first CSV file would include the reviews for the Shore Cliff hotel and the second CSV file would include the reviews for the other hotel of your choice."
   ]
  },
  {
   "cell_type": "code",
   "execution_count": 202,
   "id": "30160f74",
   "metadata": {},
   "outputs": [],
   "source": [
    "import urllib.request, urllib.error, urllib.parse # Importing the library to load URLS\n",
    "\n",
    "#loading the URLs for 2 hotels - 1.) Shore-cliff and 2.) Edgewater-inn-and-suites\n",
    "\n",
    "booking_hotel_url = [\"https://www.booking.com/hotel/us/shore-cliff.html\", \"https://www.booking.com/hotel/us/edgewater-inn-and-suites.html\"]\n"
   ]
  },
  {
   "cell_type": "code",
   "execution_count": 195,
   "id": "7ba075ac",
   "metadata": {},
   "outputs": [],
   "source": [
    "import requests\n",
    "import random\n",
    "\n",
    "headers_list = [\n",
    "    # Chrome Mac\n",
    "    {\n",
    "    \"User-Agent\": \"Mozilla/5.0 (Macintosh; Intel Mac OS X 10_15_7) AppleWebKit/537.36 (KHTML, like Gecko) Chrome/94.0.4606.81 Safari/537.36\",\n",
    "    \"Accept\": \"text/html,application/xhtml+xml,application/xml;q=0.9,image/webp,*/*;q=0.8\",\n",
    "    \"Accept-Language\": \"en-US,en;q=0.5\",\n",
    "    \"Referer\": \"https://www.google.com/\",\n",
    "    \"DNT\": \"1\",\n",
    "    \"Connection\": \"keep-alive\",\n",
    "    \"Upgrade-Insecure-Requests\": \"1\"\n",
    "    }]"
   ]
  },
  {
   "cell_type": "code",
   "execution_count": 196,
   "id": "a7aee4c3",
   "metadata": {},
   "outputs": [],
   "source": [
    "headers = random.choice(headers_list)\n",
    "r = requests.Session()\n",
    "r.headers = headers\n",
    "\n",
    "html = []\n",
    "\n",
    "for i in range(0,len(booking_hotel_url)):\n",
    "    html_1 = r.get(booking_hotel_url[i]).text\n",
    "    html.append(html_1)"
   ]
  },
  {
   "cell_type": "code",
   "execution_count": 197,
   "id": "be0a07e9",
   "metadata": {},
   "outputs": [
    {
     "data": {
      "text/plain": [
       "'<!DOCTYPE html>\\n<!--\\nYou know you could be getting paid to poke around in our code?\\nWe\\'re hiring designers and developers to work in Amsterdam:\\nhttps://careers.booking.com/\\n-->\\n<!-- wdot-802 -->\\n<script type=\"text/javascript\" nonce=\"197rfCjXxLdRSlb\">\\ndocument.addEventListener(\\'DOMContentLoaded\\', function () {\\n//c360 javascript tracker first iteration\\n//sends a track request to c360 http tracker\\n//in order to use it:\\n//1. inline the c360Tracker.js in the page you need to use it\\n//2. in your js file:\\n//\\n// var c360Tracker = B.require(\\'c360Tracker\\');\\n// var event = {\\n// action_name:\"accommodation_checkout_confirmation_viewed\",\\n// action_version :\"0.2.0\",\\n// content : { \"transaction_id\" : 123434},\\n// user : { \"BKNG_user_id\": 123434}\\n// };\\n// c360Tracker.track(event);\\nB.define(\\'c360Tracker\\', function () {\\nvar enrichedContext = {};\\nvar configuration = {\\nvalidateInput: false\\n};\\nvar track = function (event) {\\nif (event == null) {\\nreturn \"event object is null or empty\";\\n} else {\\n//if (enrichedC'"
      ]
     },
     "execution_count": 197,
     "metadata": {},
     "output_type": "execute_result"
    }
   ],
   "source": [
    "html[0][0:1000]"
   ]
  },
  {
   "cell_type": "code",
   "execution_count": 198,
   "id": "39b38792",
   "metadata": {},
   "outputs": [
    {
     "name": "stdout",
     "output_type": "stream",
     "text": [
      "['Shore Cliff Hotel', 'Edgewater Inn and Suites']\n"
     ]
    }
   ],
   "source": [
    "hotel_name = []\n",
    "\n",
    "for i in range(0,len(booking_hotel_url)):\n",
    "    index_hotel_name = html[i].find('class=\"fn \"')\n",
    "    hotel_name_html = html[i][index_hotel_name:]\n",
    "\n",
    "    index_hotel_name2 = hotel_name_html.find('style=\"display:none\"')\n",
    "    hotel_name_html = hotel_name_html[index_hotel_name2:]\n",
    "\n",
    "    start = hotel_name_html.find(\">\")\n",
    "    end = hotel_name_html.find(\"<\")\n",
    "    hotel_name.append(hotel_name_html[start+2:end-1])  #to remove the \\n character from the name\n",
    "\n",
    "print(hotel_name)"
   ]
  },
  {
   "cell_type": "code",
   "execution_count": 199,
   "id": "8a1a831b",
   "metadata": {},
   "outputs": [
    {
     "name": "stdout",
     "output_type": "stream",
     "text": [
      "Name of 1st reviewer for 1st hotel is:  ['Julie']\n",
      "Review posted by that person:  ['It was all very nice. More than we expected during these rough times..']\n",
      "Name of 1st reviewer for 2nd hotel is:  ['Jeff']\n",
      "Review posted by that person:  ['The location is perfectly located by the shops and Ocean as well as restaurants and markets! Property is well maintained and quiet! ']\n"
     ]
    }
   ],
   "source": [
    "reviewer_name_1 = []\n",
    "review_text_1 = []\n",
    "\n",
    "reviewer_name_2 = []\n",
    "review_text_2 = []\n",
    "    \n",
    "#For hotel 1 : getting 1st Reviewer name and their review\n",
    "index_reviewer_name = html[0].find('class=\"bui-carousel__item\" data-bui-ref=\"carousel-item\"')\n",
    "\n",
    "reviewer_name_html = html[0][index_reviewer_name:]\n",
    "\n",
    "\n",
    "index_reviewer_name2 = reviewer_name_html.find('class=\"bui-avatar-block__title\"')\n",
    "reviewer_name_html = reviewer_name_html[index_reviewer_name2:]\n",
    "\n",
    "start = reviewer_name_html.find(\">\")\n",
    "end = reviewer_name_html.find(\"<\")\n",
    "reviewer_name_1.append(reviewer_name_html[start+1:end])\n",
    "\n",
    "\n",
    "\n",
    "index_reviewer_text = reviewer_name_html.find('data-toggle-length=\"250\"')\n",
    "reviewer_text_html = reviewer_name_html[index_reviewer_text:]\n",
    "\n",
    "start = reviewer_text_html.find(\">\")\n",
    "end = reviewer_text_html.find(\"<\")\n",
    "review_text_1.append(reviewer_text_html[start+8:end-7])\n",
    "\n",
    "print(\"Name of 1st reviewer for 1st hotel is: \", reviewer_name_1)\n",
    "print(\"Review posted by that person: \", review_text_1)\n",
    "\n",
    "\n",
    "#For hotel 2 : getting 1st Reviewer name and their review\n",
    "index_reviewer_name = html[1].find('class=\"bui-carousel__item\" data-bui-ref=\"carousel-item\"')\n",
    "\n",
    "reviewer_name_html = html[1][index_reviewer_name:]\n",
    "\n",
    "\n",
    "index_reviewer_name2 = reviewer_name_html.find('class=\"bui-avatar-block__title\"')\n",
    "reviewer_name_html = reviewer_name_html[index_reviewer_name2:]\n",
    "\n",
    "start = reviewer_name_html.find(\">\")\n",
    "end = reviewer_name_html.find(\"<\")\n",
    "reviewer_name_2.append(reviewer_name_html[start+1:end])\n",
    "\n",
    "\n",
    "\n",
    "index_reviewer_text = reviewer_name_html.find('data-toggle-length=\"250\"')\n",
    "reviewer_text_html = reviewer_name_html[index_reviewer_text:]\n",
    "\n",
    "start = reviewer_text_html.find(\">\")\n",
    "end = reviewer_text_html.find(\"<\")\n",
    "review_text_2.append(reviewer_text_html[start+8:end-7])\n",
    "\n",
    "print(\"Name of 1st reviewer for 2nd hotel is: \", reviewer_name_2)\n",
    "print(\"Review posted by that person: \", review_text_2)\n",
    "\n"
   ]
  },
  {
   "cell_type": "code",
   "execution_count": 200,
   "id": "afd66f2e",
   "metadata": {},
   "outputs": [
    {
     "name": "stdout",
     "output_type": "stream",
     "text": [
      "List of all 10 reviewers of 1st hotel are:  ['Julie', 'Gary', 'Arbie', 'Sean', 'Beck', 'Mark', 'Michelle', 'Edwards', 'Elisa', 'Kirk']\n",
      "List of all 10 reviews posted for 1st hotel are:  ['It was all very nice. More than we expected during these rough times..', 'The view from the balcony and the sweet heart and rose petals left on our bed while we were out❤️', 'Great location, right next to the cliff, the ocean view is great.', 'The view and the sound of the ocean were amazing.  Also, the beds were remarkably comfortable.', 'The view in our oceanfront room was fabulous. Both the room and the bathroom were very clean and modern. The staff was awesome and very friendly.', 'The views were fantastic, the room was very nice &amp; very spacious. The check in process was quick &amp; painless, staff were very helpful &amp; friendly, even the room service employees were pleasant. The grounds around the hotel were beautiful.', 'The view was stunning! The beds were very comfortable. The walk to the beach was easy. The afternoon cookies were delicious.', 'The view was great the breakfast had a good assortment.', 'We love the view and the soundscapes of this beautiful place we visit quite offen all the staff are so nice . ', 'Great location for proximity to ocean (great views!), town, and freeway. Was exactly what we were looking for and would definitely stay here again!']\n",
      "List of all 10 reviewers of 2nd hotel are:  ['Jeff', 'Sarah', 'Vivian', 'Joshua', 'Chris', 'Katherine', 'Christina', 'Jeff', 'Steven', 'Lilia']\n",
      "List of all 10 reviews posted for 2nd hotel are:  ['The location is perfectly located by the shops and Ocean as well as restaurants and markets! Property is well maintained and quiet! ', 'Our room was right next to the beach and also right across from the pool&#47;hot tub. We were walking distance to downtown and a couple minutes drive from all 5 cities.', 'I liked the cleanliness of the property even though it was visibly old and needs a bit of a facelift. we did have an ocean view. ', 'I liked that the hotel was right next to the beach', 'Best beach in Pismo. Walking distance to downtown and restaurants', 'Great stay - we were able to check in early, there was plenty of room for 3 women, beds were comfy, close to the beach and touristy area of Pismo.', 'We watched the sunset from our room! The million dollar view! The hot tub was a perfect soother to a day on the beach. The staff was all super nice and friendly! They accommodated our large family with a roll away bed. ', 'Loved the location as its right on the beach and the beds as well as the rooms are very clean and cozy. ', 'Can&#39;t beat the location... During Covid, all businesses are doing the best they can.', '2 grass areas for doggy&#39;s to do their business are close by. The designated smoking section which nobody was ever using and another directly across the street.  Fresh coffee in the lobby.  Huge hot tub.  Thank you for the broom in the closet : ) it really came in handy. ']\n"
     ]
    }
   ],
   "source": [
    "# For 1st hotel, I am getting the list of all reviews and the name of reviewers in the lists\n",
    "\n",
    "for counter in range(0,9):\n",
    "    index_reviewer_name = html[0].find('data-index=\"'+str(counter) + '\"')\n",
    "\n",
    "    reviewer_name_html = html[0][index_reviewer_name:]\n",
    "\n",
    "\n",
    "    index_reviewer_name2 = reviewer_name_html.find('class=\"bui-avatar-block__title\"')\n",
    "    reviewer_name_html = reviewer_name_html[index_reviewer_name2:]\n",
    "\n",
    "    start = reviewer_name_html.find(\">\")\n",
    "    end = reviewer_name_html.find(\"<\")\n",
    "    reviewer_name_1.append(reviewer_name_html[start+1:end])\n",
    "\n",
    "    index_reviewer_text = reviewer_name_html.find('data-toggle-length=\"250\"')\n",
    "    reviewer_text_html = reviewer_name_html[index_reviewer_text:]\n",
    "\n",
    "    start = reviewer_text_html.find(\">\")\n",
    "    end = reviewer_text_html.find(\"<\")\n",
    "    review_text_1.append(reviewer_text_html[start+8:end-7])\n",
    "\n",
    "print(\"List of all 10 reviewers of 1st hotel are: \", reviewer_name_1)\n",
    "print(\"List of all 10 reviews posted for 1st hotel are: \", review_text_1)\n",
    "\n",
    "\n",
    "\n",
    "# For 2nd hotel, I am getting the list of all 10 reviews and the name of reviewers in the lists\n",
    "for counter in range(0,9):\n",
    "    index_reviewer_name = html[1].find('data-index=\"'+str(counter) + '\"')\n",
    "\n",
    "    reviewer_name_html = html[1][index_reviewer_name:]\n",
    "\n",
    "\n",
    "    index_reviewer_name2 = reviewer_name_html.find('class=\"bui-avatar-block__title\"')\n",
    "    reviewer_name_html = reviewer_name_html[index_reviewer_name2:]\n",
    "\n",
    "    start = reviewer_name_html.find(\">\")\n",
    "    end = reviewer_name_html.find(\"<\")\n",
    "    reviewer_name_2.append(reviewer_name_html[start+1:end])\n",
    "\n",
    "    index_reviewer_text = reviewer_name_html.find('data-toggle-length=\"250\"')\n",
    "    reviewer_text_html = reviewer_name_html[index_reviewer_text:]\n",
    "\n",
    "    start = reviewer_text_html.find(\">\")\n",
    "    end = reviewer_text_html.find(\"<\")\n",
    "    review_text_2.append(reviewer_text_html[start+8:end-7])\n",
    "\n",
    "print(\"List of all 10 reviewers of 2nd hotel are: \", reviewer_name_2)\n",
    "print(\"List of all 10 reviews posted for 2nd hotel are: \", review_text_2)\n"
   ]
  },
  {
   "cell_type": "code",
   "execution_count": 201,
   "id": "a578b8fe",
   "metadata": {},
   "outputs": [],
   "source": [
    "# Writing the all the 3 columns (Hotel name, reviewer name and review text) into CSV file:\n",
    "\n",
    "# Shore Cliff hotel output\n",
    "Output_File = open(\"/Users/manideep_sharma/Documents/Purdue documents/Fall mod 2/MGMT 590 WDA/Assignment 4 due Nov 4/Shore Cliff hotel_output.csv\", 'w', encoding=\"utf-8\")\n",
    "\n",
    "Output_File.write(\"Hotel_name,Reviewer_Name,Review_text\\n\")\n",
    "\n",
    "for x in range(0, 10):\n",
    "    Output_File.write(hotel_name[0] + ',' + reviewer_name_1[x] + ',\"'+ review_text_1[x] + '\"\\n')\n",
    "\n",
    "Output_File.close()\n",
    "\n",
    "\n",
    "# Edgewater Inn and Suites hotel output\n",
    "Output_File = open(\"/Users/manideep_sharma/Documents/Purdue documents/Fall mod 2/MGMT 590 WDA/Assignment 4 due Nov 4/Edgewater Inn and Suites hotel_output.csv\", 'w', encoding=\"utf-8\")\n",
    "\n",
    "Output_File.write(\"Hotel_name,Reviewer_Name,Review_text\\n\")\n",
    "\n",
    "for x in range(0, 10):\n",
    "    Output_File.write(hotel_name[1] + ',' + reviewer_name_2[x] + ',\"' + review_text_2[x]+ '\"\\n')\n",
    "\n",
    "Output_File.close()\n",
    "\n",
    "\n"
   ]
  }
 ],
 "metadata": {
  "kernelspec": {
   "display_name": "Python 3",
   "language": "python",
   "name": "python3"
  },
  "language_info": {
   "codemirror_mode": {
    "name": "ipython",
    "version": 3
   },
   "file_extension": ".py",
   "mimetype": "text/x-python",
   "name": "python",
   "nbconvert_exporter": "python",
   "pygments_lexer": "ipython3",
   "version": "3.8.8"
  }
 },
 "nbformat": 4,
 "nbformat_minor": 5
}
